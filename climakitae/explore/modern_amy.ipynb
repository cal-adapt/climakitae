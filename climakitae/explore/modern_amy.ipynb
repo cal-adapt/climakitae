{
 "cells": [
  {
   "cell_type": "code",
   "execution_count": null,
   "metadata": {},
   "outputs": [],
   "source": [
    "%reload_ext autoreload\n",
    "%autoreload 2"
   ]
  },
  {
   "cell_type": "code",
   "execution_count": null,
   "metadata": {},
   "outputs": [],
   "source": [
    "from climakitae.explore.amy import get_climate_profile"
   ]
  },
  {
   "cell_type": "code",
   "execution_count": null,
   "metadata": {},
   "outputs": [],
   "source": [
    "selection= {\n",
    "    \"variable\": \"Air Temperature at 2m\",\n",
    "    \"resolution\": \"3 km\",\n",
    "    \"warming_level\": [2.0],\n",
    "    \"units\": \"degF\",\n",
    "    # cached_area=['Los Angeles County']\n",
    "    \"latitude\": (37.704432 - 0.05, 37.704432 + 0.05),\n",
    "    \"longitude\": (-121.898696 - 0.05, -121.898696 + 0.05),\n",
    "    \"q\": 0.95,\n",
    "}"
   ]
  },
  {
   "cell_type": "code",
   "execution_count": null,
   "metadata": {},
   "outputs": [],
   "source": [
    "profile = get_climate_profile(**selection)"
   ]
  },
  {
   "cell_type": "code",
   "execution_count": null,
   "metadata": {},
   "outputs": [
    {
     "ename": "NameError",
     "evalue": "name 'pd' is not defined",
     "output_type": "error",
     "traceback": [
      "\u001b[31m---------------------------------------------------------------------------\u001b[39m",
      "\u001b[31mNameError\u001b[39m                                 Traceback (most recent call last)",
      "\u001b[36mCell\u001b[39m\u001b[36m \u001b[39m\u001b[32mIn[1]\u001b[39m\u001b[32m, line 3\u001b[39m\n\u001b[32m      1\u001b[39m \u001b[38;5;28;01mimport\u001b[39;00m\u001b[38;5;250m \u001b[39m\u001b[34;01mmatplotlib\u001b[39;00m\u001b[34;01m.\u001b[39;00m\u001b[34;01mpyplot\u001b[39;00m\u001b[38;5;250m \u001b[39m\u001b[38;5;28;01mas\u001b[39;00m\u001b[38;5;250m \u001b[39m\u001b[34;01mplt\u001b[39;00m\n\u001b[32m----> \u001b[39m\u001b[32m3\u001b[39m idx = \u001b[43mpd\u001b[49m.IndexSlice\n\u001b[32m      4\u001b[39m sims = profile.columns.get_level_values(\u001b[33m\"\u001b[39m\u001b[33mSimulation\u001b[39m\u001b[33m\"\u001b[39m).unique().tolist()\n\u001b[32m      6\u001b[39m \u001b[38;5;28;01mfor\u001b[39;00m sim \u001b[38;5;129;01min\u001b[39;00m sims:\n\u001b[32m      7\u001b[39m     \u001b[38;5;66;03m# Select columns for the current simulation\u001b[39;00m\n",
      "\u001b[31mNameError\u001b[39m: name 'pd' is not defined"
     ]
    }
   ],
   "source": [
    "import matplotlib.pyplot as plt\n",
    "import pandas as pd\n",
    "\n",
    "idx = pd.IndexSlice\n",
    "sims = profile.columns.get_level_values(\"Simulation\").unique().tolist()\n",
    "\n",
    "for sim in sims:\n",
    "    # Select columns for the current simulation\n",
    "    data = profile.loc[:, idx[:, sim]]\n",
    "    # Assuming the first level is month and the second is simulation\n",
    "    # We'll plot a heatmap of the data for each simulation\n",
    "    plt.figure(figsize=(12, 6))\n",
    "    plt.imshow(data.values.T, aspect='auto', cmap='coolwarm')\n",
    "    plt.colorbar(label=f\"{selection['variable']} ({selection['units']})\")\n",
    "    plt.yticks(range(data.shape[1]), data.columns.get_level_values(0))\n",
    "    plt.xticks(range(data.shape[0]), data.index)\n",
    "    plt.title(f\"{sim} - {selection['variable']} at {selection['warming_level'][0]}°C Warming\")\n",
    "    plt.xlabel(\"Day of Year\")\n",
    "    plt.ylabel(\"Hour of Day\")\n",
    "    vmin = -max(abs(data.values.max()), abs(data.values.min()))\n",
    "    vmax = max(abs(data.values.max()), abs(data.values.min()))\n",
    "    xtick_freq = max(1, data.shape[0] // 12)\n",
    "    plt.xticks(range(0, data.shape[0], xtick_freq), data.index[::xtick_freq])\n",
    "    plt.clim(vmin, vmax)\n",
    "    plt.show()\n",
    "\n"
   ]
  },
  {
   "cell_type": "code",
   "execution_count": null,
   "metadata": {},
   "outputs": [],
   "source": []
  }
 ],
 "metadata": {
  "kernelspec": {
   "display_name": "climakitae",
   "language": "python",
   "name": "python3"
  },
  "language_info": {
   "codemirror_mode": {
    "name": "ipython",
    "version": 3
   },
   "file_extension": ".py",
   "mimetype": "text/x-python",
   "name": "python",
   "nbconvert_exporter": "python",
   "pygments_lexer": "ipython3",
   "version": "3.12.11"
  }
 },
 "nbformat": 4,
 "nbformat_minor": 2
}
