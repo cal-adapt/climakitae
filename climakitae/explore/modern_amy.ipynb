{
 "cells": [
  {
   "cell_type": "code",
   "execution_count": null,
   "metadata": {},
   "outputs": [],
   "source": [
    "%reload_ext autoreload\n",
    "%autoreload 2"
   ]
  },
  {
   "cell_type": "code",
   "execution_count": null,
   "metadata": {},
   "outputs": [],
   "source": [
    "from climakitae.explore.amy import get_climate_profile"
   ]
  },
  {
   "cell_type": "code",
   "execution_count": null,
   "metadata": {},
   "outputs": [],
   "source": [
    "selection= {\n",
    "    \"variable\": \"Air Temperature at 2m\",\n",
    "    \"resolution\": \"3 km\",\n",
    "    \"warming_level\": [2.0],\n",
    "    \"units\": \"degF\",\n",
    "    # cached_area=['Los Angeles County']\n",
    "    \"latitude\": (37.704432 - 0.05, 37.704432 + 0.05),\n",
    "    \"longitude\": (-121.898696 - 0.05, -121.898696 + 0.05),\n",
    "    \"q\": 0.95,\n",
    "}"
   ]
  },
  {
   "cell_type": "code",
   "execution_count": null,
   "metadata": {},
   "outputs": [],
   "source": [
    "get_climate_profile(**selection)"
   ]
  }
 ],
 "metadata": {
  "kernelspec": {
   "display_name": "climakitae",
   "language": "python",
   "name": "python3"
  },
  "language_info": {
   "codemirror_mode": {
    "name": "ipython",
    "version": 3
   },
   "file_extension": ".py",
   "mimetype": "text/x-python",
   "name": "python",
   "nbconvert_exporter": "python",
   "pygments_lexer": "ipython3",
   "version": "3.12.7"
  }
 },
 "nbformat": 4,
 "nbformat_minor": 2
}
