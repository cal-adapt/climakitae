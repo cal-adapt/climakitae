{
 "cells": [
  {
   "cell_type": "markdown",
   "id": "cbd4914d",
   "metadata": {},
   "source": [
    "# ClimateData Interface Tutorial\n",
    "\n",
    "## A Comprehensive Guide to Using the ClimateData Class\n",
    "\n",
    "This notebook provides a detailed walkthrough of the ClimateData interface, demonstrating how to explore available data, build queries, and retrieve climate data with various processing options.\n",
    "\n",
    "---\n",
    "\n",
    "## Table of Contents\n",
    "\n",
    "1. [Getting Started](#getting-started)\n",
    "2. [Understanding the Interface](#understanding-the-interface)\n",
    "3. [Data Exploration](#data-exploration)\n",
    "4. [Basic Data Retrieval](#basic-data-retrieval)\n",
    "5. [Advanced Processing](#advanced-processing)\n",
    "6. [Best Practices and Tips](#best-practices)\n",
    "\n",
    "---\n",
    "\n",
    "## Upfront Q&A:\n",
    "- **Q: can I access station data?**\n",
    "- A: Yes. Station data is available.\n",
    "\n",
    "- **Q: can I access derived variables?**\n",
    "- A: No. you can't access derived variables yet. A larger discussion needs to be had about hosting derived variables.\n",
    "\n",
    "- **Q: does warming levels work?**\n",
    "- A: Yes. Warming levels works, but is not included yet.\n",
    "\n",
    "- **Q: can I access renewables data?**\n",
    "- A: Yes! You can access all of the renewables data.\n",
    "\n",
    "- **Q: can I access WRF and LOCA2 data from the ae catalog?**\n",
    "- A: Yes! you should be able to access most of that data with limited subsetting capabilities.\n",
    "\n",
    "- **Q: Limited subsetting capabilities? What does that mean?**\n",
    "- A: I haven't implemented boundaries or station selection yet, so you can't grab some of the more convenient areas unless you happen to have your own shape file on hand.\n",
    "\n",
    "\n",
    "## Getting Started\n",
    "\n",
    "While you're reviewing this, please let me know if you find any unexpected behavior like things breaking. Or if you're adamantly opposed to how something is implemented from a UX side of things. And if you're lightly opposed that's cool too, just let me know why and we can talk it out.\n",
    "\n",
    "Okay let's get started!\n",
    "\n",
    "We'll start by importing the necessary libraries and initialize the ClimateData interface."
   ]
  },
  {
   "cell_type": "code",
   "execution_count": null,
   "id": "2d2c0231",
   "metadata": {},
   "outputs": [],
   "source": [
    "\n",
    "import matplotlib.pyplot as plt\n",
    "import xarray as xr\n",
    "import pandas as pd\n",
    "\n",
    "# Import our climate data interface\n",
    "import climakitae.new_core.user_interface\n",
    "from climakitae.new_core.user_interface import ClimateData\n",
    "\n",
    "# Initialize the interface\n",
    "cd = ClimateData()"
   ]
  },
  {
   "cell_type": "markdown",
   "id": "b2b5fa33",
   "metadata": {},
   "source": [
    "The ClimateData class uses a **fluent interface pattern**, which means you can chain method calls together to build complex queries in a readable way.\n",
    "\n",
    "---\n",
    "\n",
    "## Understanding the Interface\n",
    "\n",
    "### Core Concepts\n",
    "\n",
    "The ClimateData interface organizes climate data using several key parameters:\n",
    "\n",
    "- **`catalog`**: The main data collection (e.g., \"renewables\", \"climate\")\n",
    "- **`installation`**: Specific installation type (e.g., \"pv_utility\", \"wind_offshore\")\n",
    "- **`activity_id`**: Research activity (e.g., \"CMIP6\", \"CORDEX\")\n",
    "- **`institution_id`**: Data provider institution (e.g., \"CNRM\", \"DWD\")\n",
    "- **`source_id`**: Data source type (e.g., \"GCM\", \"RCM\")\n",
    "- **`experiment_id`**: Climate experiment (e.g., \"historical\", \"ssp245\")\n",
    "- **`table_id`**: Temporal resolution (e.g., \"1hr\", \"day\", \"mon\")\n",
    "- **`grid_label`**: Spatial resolution (e.g., \"d01\", \"d02\", \"d03\")\n",
    "- **`variable`**: Climate variable (e.g., \"cf\", \"tasmax\", \"pr\")\n",
    "- **`processes`**: Data processing operations (clipping, time slicing, etc.)\n",
    "\n",
    "### Method Chaining Pattern"
   ]
  },
  {
   "cell_type": "code",
   "execution_count": null,
   "id": "b17eac39",
   "metadata": {},
   "outputs": [],
   "source": [
    "# Example of method chaining\n",
    "data = (cd\n",
    "    .catalog(\"renewables\")           # Set catalog\n",
    "    .installation(\"pv_utility\")     # Set installation\n",
    "    .variable(\"cf\")                  # Set variable\n",
    "    .table_id(\"day\")                 # Set temporal resolution\n",
    "    .grid_label(\"d03\")               # Set spatial resolution\n",
    "    .get()                          # Execute query\n",
    ")"
   ]
  },
  {
   "cell_type": "markdown",
   "id": "1c2e3d12",
   "metadata": {},
   "source": [
    "### Note on Concatenation\n",
    "\n",
    "You'll see up there that the dataset was concatenated along the `sim` dimension. This dimension is created by combining `f\"{source_id}_{experiment_id}\"` resulting in unique simulation identifiers such as:\n",
    "- WRF_TaiESM1_r1i1p1f1_historical\n",
    "- WRF_MIROC6_r1i1p1f1_historical\n",
    "- WRF_EC-Earth3_r1i1p1f1_historical\n",
    "- WRF_MPI-ESM1-2-HR_r3i1p1f1_ssp370\n",
    "- WRF_TaiESM1_r1i1p1f1_ssp370\n",
    "- WRF_EC-Earth3_r1i1p1f1_ssp370\n",
    "- WRF_MPI-ESM1-2-HR_r3i1p1f1_historical\n",
    "- WRF_ERA5_reanalysis\n",
    "- WRF_MIROC6_r1i1p1f1_ssp370"
   ]
  },
  {
   "cell_type": "markdown",
   "id": "d5c7eecf",
   "metadata": {},
   "source": [
    "---\n",
    "\n",
    "## Data Exploration\n",
    "\n",
    "Before retrieving data, it's essential to explore what's available. The ClimateData interface provides several methods for this purpose.\n",
    "\n",
    "### 1. Exploring All Available Options"
   ]
  },
  {
   "cell_type": "code",
   "execution_count": null,
   "id": "7dbc4384",
   "metadata": {},
   "outputs": [],
   "source": [
    "# Get a comprehensive overview of all available options\n",
    "cd.show_all_options()"
   ]
  },
  {
   "cell_type": "markdown",
   "id": "963a4a20",
   "metadata": {},
   "source": [
    "This will display all available catalogs, installations, variables, and other parameters.\n",
    "\n",
    "### 2. Step-by-Step Exploration\n",
    "\n",
    "Let's explore options systematically, building our query step by step:"
   ]
  },
  {
   "cell_type": "code",
   "execution_count": null,
   "id": "44fd5c42",
   "metadata": {},
   "outputs": [],
   "source": [
    "# Start by exploring available catalogs\n",
    "cd.show_catalog_options()"
   ]
  },
  {
   "cell_type": "code",
   "execution_count": null,
   "id": "fef294b8",
   "metadata": {},
   "outputs": [],
   "source": [
    "# Choose a catalog and explore installations\n",
    "climate_explorer = cd.catalog(\"renewables\")\n",
    "climate_explorer.show_installation_options()"
   ]
  },
  {
   "cell_type": "code",
   "execution_count": null,
   "id": "f38d0130",
   "metadata": {},
   "outputs": [],
   "source": [
    "# Continue building the query and explore variables\n",
    "climate_explorer = climate_explorer.installation(\"pv_utility\")\n",
    "climate_explorer.show_variable_options()"
   ]
  },
  {
   "cell_type": "markdown",
   "id": "a64dacf1",
   "metadata": {},
   "source": [
    "\n",
    "### 3. Contextual Exploration\n",
    "\n",
    "The interface shows different options based on your current query context:\n"
   ]
  },
  {
   "cell_type": "code",
   "execution_count": null,
   "id": "4ef420b2",
   "metadata": {},
   "outputs": [],
   "source": [
    "# See how options change as we add more parameters\n",
    "query_builder = (cd\n",
    "    .catalog(\"renewables\")\n",
    "    .installation(\"pv_utility\")\n",
    "    .activity_id(\"WRF\")\n",
    ")\n",
    "\n",
    "print(\"=== Available experiments with current context ===\")\n",
    "query_builder.show_experiment_id_options()\n",
    "\n",
    "print(\"\\n=== Current query status ===\")\n",
    "query_builder.show_query()"
   ]
  },
  {
   "cell_type": "markdown",
   "id": "86ca2b41",
   "metadata": {},
   "source": [
    "### 4. Understanding Variable Context\n"
   ]
  },
  {
   "cell_type": "code",
   "execution_count": null,
   "id": "875ad231",
   "metadata": {},
   "outputs": [],
   "source": [
    "cd.reset()\n",
    "# Variables available depend on your other selections\n",
    "cd.catalog(\"data\").table_id(\"1hr\").show_variable_options()\n",
    "print(\"\\n\" + \"=\"*50 + \"\\n\")\n",
    "cd.catalog(\"data\").table_id(\"day\").show_variable_options()"
   ]
  },
  {
   "cell_type": "code",
   "execution_count": null,
   "id": "55689f7b",
   "metadata": {},
   "outputs": [],
   "source": [
    "\n",
    "cd.reset()\n",
    "# Different catalog = different variables\n",
    "cd.catalog(\"data\").table_id(\"1hr\").show_variable_options()\n",
    "print(\"\\n\" + \"=\"*50 + \"\\n\")\n",
    "cd.catalog(\"renewables\").table_id(\"1hr\").show_variable_options()"
   ]
  },
  {
   "cell_type": "markdown",
   "id": "a29fd820",
   "metadata": {},
   "source": [
    "\n",
    "---\n",
    "\n",
    "## Basic Data Retrieval\n",
    "\n",
    "### Simple Query Example\n",
    "\n",
    "Let's retrieve some basic climate data:\n"
   ]
  },
  {
   "cell_type": "code",
   "execution_count": null,
   "id": "4e900a0f",
   "metadata": {},
   "outputs": [],
   "source": [
    "# Retrieve daily capacity factor data for utility-scale PV\n",
    "data = (cd\n",
    "    .catalog(\"renewables\")\n",
    "    .installation(\"pv_utility\")\n",
    "    .experiment_id(\"ssp\")\n",
    "    .table_id(\"day\")\n",
    "    .grid_label(\"d03\")\n",
    "    .variable(\"cf\")\n",
    "    .get()\n",
    ")\n",
    "\n",
    "data"
   ]
  },
  {
   "cell_type": "markdown",
   "id": "f1845ade",
   "metadata": {},
   "source": [
    "### Working with Multiple Variables\n",
    "\n",
    "Right now the interface does not support selecting more than one variable at a time due to the complexity of the operation. However, this may be an option in the future if dev/user demand grows.\n",
    "\n",
    "Currently, to retrieve multiple variables it is recommended to make multiple queries. Like so:"
   ]
  },
  {
   "cell_type": "code",
   "execution_count": null,
   "id": "75d2c36b",
   "metadata": {},
   "outputs": [],
   "source": [
    "# Retrieve multiple related variables\n",
    "variables_to_get = [\"cf\", \"gen\"]\n",
    "datasets = {}\n",
    "\n",
    "for var in variables_to_get:\n",
    "    print(f\"Retrieving {var}...\")\n",
    "    datasets[var] = (cd\n",
    "        .catalog(\"renewables\")\n",
    "        .installation(\"pv_utility\")\n",
    "        .experiment_id(\"historical\")\n",
    "        .table_id(\"day\")\n",
    "        .grid_label(\"d03\")\n",
    "        .variable(var)\n",
    "        .get()\n",
    "    )\n",
    "\n",
    "data = xr.merge(datasets.values())\n",
    "print(\"=\"*50)\n",
    "print(data)"
   ]
  },
  {
   "cell_type": "markdown",
   "id": "b18d8862",
   "metadata": {},
   "source": [
    "## How to debug an invalid query\n",
    "\n",
    "Here's a few examples of what can happen if you put in bad query.\n",
    "\n",
    "### Mis-spelled"
   ]
  },
  {
   "cell_type": "code",
   "execution_count": null,
   "id": "aa088564",
   "metadata": {},
   "outputs": [],
   "source": [
    "data = (cd\n",
    "    .catalog(\"renowables\") # Typo in catalog name\n",
    "    .installation(\"pv_utility\")\n",
    "    .experiment_id(\"historical\")\n",
    "    .table_id(\"day\")\n",
    "    .grid_label(\"d03\")\n",
    "    .variable(\"cf\")\n",
    "    .get()\n",
    ")\n",
    "# produces a warning and an error\n",
    "\n",
    "print(data) # you'll get None back because the dataset couldn't be constructed"
   ]
  },
  {
   "cell_type": "code",
   "execution_count": null,
   "id": "cc8a0221",
   "metadata": {},
   "outputs": [],
   "source": [
    "data = (cd\n",
    "    .catalog(\"renewables\") \n",
    "    .installation(\"pv_utolity\") # Typo in installation name\n",
    "    .experiment_id(\"historical\")\n",
    "    .table_id(\"day\")\n",
    "    .grid_label(\"d03\")\n",
    "    .variable(\"cf\")\n",
    "    .get()\n",
    ")\n",
    "# produces a warning with suggestions and an empty dataset\n",
    "\n",
    "print(data) \n",
    "# you'll get an empty dataset back because the dataset was constructed\n",
    "# but no data (in the catalog) was found for the given query"
   ]
  },
  {
   "cell_type": "markdown",
   "id": "5079f89c",
   "metadata": {},
   "source": [
    "### Catalog Entry Does Exist"
   ]
  },
  {
   "cell_type": "code",
   "execution_count": null,
   "id": "ba680043",
   "metadata": {},
   "outputs": [],
   "source": [
    "data = (cd\n",
    "    .catalog(\"data\")\n",
    "    .activity_id(\"LOCA2\")\n",
    "    .table_id(\"mon\") \n",
    "    .grid_label(\"d01\") # no monthly data available for this grid resolution\n",
    "    .variable(\"tasmax\")\n",
    "    .get()\n",
    ")\n",
    "# produces a warning and an empty dataset\n",
    "\n",
    "# alerts user that there's a conflict between the table_id and grid_label\n",
    "# and lists the available grid labels for the given table_id\n",
    "\n",
    "# it processes the query in the order that the catalog keys are defined\n",
    "# self.all_catalog_keys = { # for renewables\n",
    "#     \"installation\": UNSET,\n",
    "#     \"activity_id\": UNSET,\n",
    "#     \"institution_id\": UNSET,\n",
    "#     \"source_id\": UNSET,\n",
    "#     \"experiment_id\": UNSET,\n",
    "#     \"table_id\": UNSET,\n",
    "#     \"grid_label\": UNSET,\n",
    "#     \"variable_id\": UNSET,\n",
    "# }\n",
    "\n",
    "print(data)\n"
   ]
  },
  {
   "cell_type": "markdown",
   "id": "ebdb956f",
   "metadata": {},
   "source": [
    "\n",
    "---\n",
    "\n",
    "## Advanced Processing\n",
    "\n",
    "### Clipping and Time Slicing\n",
    "\n",
    "The `processes` parameter allows you to apply various transformations to your data during retrieval. This is more efficient than post-processing because it happens server-side.\n",
    "\n",
    "### 1. Geographic Clipping with Lat/Lon Bounds\n",
    "\n",
    "Let's clip data to the Pajaro Valley region using latitude/longitude bounds:\n"
   ]
  },
  {
   "cell_type": "code",
   "execution_count": 1,
   "id": "27dda1ea",
   "metadata": {},
   "outputs": [
    {
     "name": "stdout",
     "output_type": "stream",
     "text": [
      "✅ Ready to query! \n",
      "Checking for valid options...\n",
      "Found up to 19 datasets matching your query.\n",
      "Checking processes ...\n",
      "Querying data catalog with query: {'experiment_id': ['ssp245', 'ssp370', 'ssp585'], 'table_id': 'day', 'grid_label': 'd02', 'variable_id': 't2'}\n"
     ]
    },
    {
     "name": "stderr",
     "output_type": "stream",
     "text": [
      "/home/nschroed/Documents/work/climakitae/climakitae/new_core/processors/filter_unbiased_models.py:98: UserWarning: \n",
      "\n",
      "Your query selected models that do not have a-priori bias adjustment. \n",
      "These models have been removed from the returned query.\n",
      "To include them, please add the following processor to your query: \n",
      "ClimateData().processes('filter_unbiased_models': 'no')\n",
      "\n",
      "\n",
      "  warnings.warn(\n",
      "/home/nschroed/Documents/work/climakitae/climakitae/new_core/processors/processor_utils.py:804: UserWarning: \n",
      "\n",
      "No historical data found for WRF.UCLA.TaiESM1.ssp370.day.d02 with key WRF.UCLA.TaiESM1.historical.day.d02. \n",
      "Historical data is required for time domain extension. \n",
      "Keeping original SSP data without historical extension.\n",
      "  warnings.warn(\n",
      "/home/nschroed/Documents/work/climakitae/climakitae/new_core/processors/processor_utils.py:804: UserWarning: \n",
      "\n",
      "No historical data found for WRF.UCLA.MIROC6.ssp370.day.d02 with key WRF.UCLA.MIROC6.historical.day.d02. \n",
      "Historical data is required for time domain extension. \n",
      "Keeping original SSP data without historical extension.\n",
      "  warnings.warn(\n",
      "/home/nschroed/Documents/work/climakitae/climakitae/new_core/processors/processor_utils.py:804: UserWarning: \n",
      "\n",
      "No historical data found for WRF.UCLA.EC-Earth3.ssp370.day.d02 with key WRF.UCLA.EC-Earth3.historical.day.d02. \n",
      "Historical data is required for time domain extension. \n",
      "Keeping original SSP data without historical extension.\n",
      "  warnings.warn(\n",
      "/home/nschroed/Documents/work/climakitae/climakitae/new_core/processors/processor_utils.py:804: UserWarning: \n",
      "\n",
      "No historical data found for WRF.UCLA.MPI-ESM1-2-HR.ssp370.day.d02 with key WRF.UCLA.MPI-ESM1-2-HR.historical.day.d02. \n",
      "Historical data is required for time domain extension. \n",
      "Keeping original SSP data without historical extension.\n",
      "  warnings.warn(\n",
      "/home/nschroed/Documents/work/climakitae/climakitae/new_core/processors/processor_utils.py:804: UserWarning: \n",
      "\n",
      "No historical data found for WRF.UCLA.EC-Earth3-Veg.ssp370.day.d02 with key WRF.UCLA.EC-Earth3-Veg.historical.day.d02. \n",
      "Historical data is required for time domain extension. \n",
      "Keeping original SSP data without historical extension.\n",
      "  warnings.warn(\n"
     ]
    },
    {
     "name": "stdout",
     "output_type": "stream",
     "text": [
      "\n",
      "\n",
      "INFO: Prepending historical data to SSP scenarios.\n",
      "      This is the default concatenation strategy for retrieved data in climakitae.\n",
      "      To change this behavior, set `\"concat\": \"sim\"` in your processes dictionary.\n",
      "Concatenated datasets along 'sim' dimension.\n",
      "{'standard_name': 'time', 'axis': 'T', 'long_name': 'time coordinate'}\n",
      "{'standard_name': 'projection_x_coordinate', 'units': 'metre', 'axis': 'X', 'long_name': 'x coordinate of projection'}\n",
      "{'standard_name': 'projection_y_coordinate', 'units': 'metre', 'axis': 'Y', 'long_name': 'y coordinate of projection'}\n",
      "{'standard_name': 'simulation', 'units': 'N/A', 'axis': 'S', 'long_name': 'simulation index', 'description': 'unique identifier for each simulation run based on catalog parameters'}\n",
      "✅ Data retrieval successful!\n",
      "=== PAJARO VALLEY CLIPPED DATA ===\n",
      "Original spatial extent would be much larger\n",
      "Clipped spatial extent:\n",
      "  Latitude: 35.86 to 37.50\n",
      "  Longitude: -122.24 to -120.24\n",
      "Time range: 2050-01-01T00:00:00.000000000 to 2050-12-31T00:00:00.000000000\n",
      "Data shape: FrozenMappingWarningOnValuesAccess({'time': 365, 'x': 14, 'y': 16, 'sim': 5})\n"
     ]
    },
    {
     "data": {
      "image/png": "[encoded data removed]",
      "text/plain": [
       "<Figure size 1200x400 with 3 Axes>"
      ]
     },
     "metadata": {},
     "output_type": "display_data"
    }
   ],
   "source": [
    "import matplotlib.pyplot as plt\n",
    "import pandas as pd\n",
    "\n",
    "# Import our climate data interface\n",
    "import climakitae.new_core.user_interface\n",
    "from climakitae.new_core.user_interface import ClimateData\n",
    "\n",
    "# Initialize the interface\n",
    "cd = ClimateData()\n",
    "# Define the Pajaro Valley bounding box\n",
    "pajaro_bounds = ((36.04, 37.37), (-121.43, -121.06))  # ((lat_min, lat_max), (lon_min, lon_max))\n",
    "\n",
    "# Retrieve clipped and time-sliced data\n",
    "pajaro_data = (cd\n",
    "    .catalog(\"data\")\n",
    "    .experiment_id(\"ssp\")\n",
    "    .table_id(\"day\")\n",
    "    .grid_label(\"d02\")\n",
    "    .variable(\"t2\")\n",
    "    .processes(\n",
    "        {\n",
    "            \"clip\": pajaro_bounds,  # Clip to Pajaro Valley bounding box\n",
    "            \"time_slice\": (\"2050-01-01\", \"2050-12-31\")\n",
    "        }\n",
    "    )\n",
    "    .get()\n",
    ")\n",
    "\n",
    "print(\"=== PAJARO VALLEY CLIPPED DATA ===\")\n",
    "if pajaro_data is not None:\n",
    "    print(f\"Original spatial extent would be much larger\")\n",
    "    print(f\"Clipped spatial extent:\")\n",
    "    print(f\"  Latitude: {float(pajaro_data.lat.min()):.2f} to {float(pajaro_data.lat.max()):.2f}\")\n",
    "    print(f\"  Longitude: {float(pajaro_data.lon.min()):.2f} to {float(pajaro_data.lon.max()):.2f}\")\n",
    "    print(f\"Time range: {pajaro_data.time.min().values} to {pajaro_data.time.max().values}\")\n",
    "    print(f\"Data shape: {pajaro_data.dims}\")\n",
    "\n",
    "    # Quick visualization\n",
    "    plt.figure(figsize=(12, 4))\n",
    "    \n",
    "    plt.subplot(1, 2, 1)\n",
    "    # plot average temp at each grid point\n",
    "    # Plot average temperature across all time and simulations\n",
    "    pajaro_data[\"t2\"].mean(dim=['time', 'sim']).plot(x='lon', y='lat', cmap='viridis')\n",
    "    plt.title('Average Temperature - Spatial Distribution')\n",
    "    plt.xlabel('Longitude')\n",
    "    plt.ylabel('Latitude')\n",
    "    \n",
    "    plt.subplot(1, 2, 2)\n",
    "    # Print spatial extent information\n",
    "\n",
    "    time_series = pajaro_data[\"t2\"].mean(dim=['x', 'y', 'sim'])\n",
    "    time_series = time_series.assign_coords(time=pd.to_datetime(time_series.time))\n",
    "\n",
    "    time_series.plot(marker='o', linestyle='-')   \n",
    "    plt.title('Time Series - Spatial Average')\n",
    "    plt.ylabel('Temperature (K)')\n",
    "    \n",
    "    plt.tight_layout()\n",
    "    plt.show()\n",
    "else:\n",
    "    print(\"Failed to retrieve data\")"
   ]
  },
  {
   "cell_type": "code",
   "execution_count": 3,
   "id": "19b7dfab",
   "metadata": {},
   "outputs": [
    {
     "name": "stdout",
     "output_type": "stream",
     "text": [
      "Exporting specified data to NetCDF...\n",
      "Saving file locally as NetCDF4...\n",
      "Saved! You can find your file in the panel to the left and download to your local machine from there.\n"
     ]
    }
   ],
   "source": [
    "import climakitae as ck\n",
    "\n",
    "ck.export(pajaro_data)  # Export the Pajaro Valley data for further use or analysis"
   ]
  },
  {
   "cell_type": "markdown",
   "id": "b2bd4a2d",
   "metadata": {},
   "source": [
    "\n",
    "### 2. Geographic Clipping with Shapefile\n",
    "\n",
    "For more complex geographic boundaries, you can use shapefiles:\n"
   ]
  },
  {
   "cell_type": "code",
   "execution_count": null,
   "id": "56bff8f1",
   "metadata": {},
   "outputs": [],
   "source": [
    "# Using a shapefile for clipping (more precise than bounding box)\n",
    "pajaro_shapefile_data = (cd\n",
    "    .catalog(\"renewables\")\n",
    "    .installation(\"pv_utility\")\n",
    "    .experiment_id(\"historical\")\n",
    "    .table_id(\"day\")\n",
    "    .grid_label(\"d03\")\n",
    "    .variable(\"cf\")\n",
    "    .processes({\n",
    "        \"time_slice\": (\"2010-01-01\", \"2010-12-31\"),        # 2010 data only\n",
    "        \"clip\": \"examples/PajaroRiverWatershed.zip\",       # Shapefile path\n",
    "        \"concat\": \"sim\"                                     # Concatenate simulations\n",
    "    })\n",
    "    .get()\n",
    ")\n",
    "\n",
    "print(\"=== SHAPEFILE CLIPPED DATA ===\")\n",
    "if pajaro_shapefile_data is not None:\n",
    "    print(f\"Shapefile clipping provides more precise boundaries\")\n",
    "    print(f\"Data shape: {pajaro_shapefile_data.sizes}\")\n",
    "    print(f\"Spatial extent:\")\n",
    "    print(f\"  Latitude: {float(pajaro_shapefile_data.lat.values.min()):.2f} to {float(pajaro_shapefile_data.lat.values.max()):.2f}\")\n",
    "    print(f\"  Longitude: {float(pajaro_shapefile_data.lon.min()):.2f} to {float(pajaro_shapefile_data.lon.max()):.2f}\")\n",
    "    \n",
    "    # Compare with bounding box clipping\n",
    "    if pajaro_data is not None:\n",
    "        print(f\"\\nComparison:\")\n",
    "        print(f\"  Bounding box points: {pajaro_data.nbytes / (1024**2):.1f} MB\")\n",
    "        print(f\"  Shapefile points: {pajaro_shapefile_data.nbytes / (1024**2):.1f} MB\")\n",
    "        print(f\"  Reduction: {(1 - pajaro_shapefile_data.nbytes/pajaro_data.nbytes)*100:.1f}%\")"
   ]
  },
  {
   "cell_type": "markdown",
   "id": "d8f740a2",
   "metadata": {},
   "source": [
    "### 3. Advanced Processing Combinations\n",
    "\n",
    "You can combine multiple processing operations:"
   ]
  },
  {
   "cell_type": "code",
   "execution_count": null,
   "id": "bb07d137",
   "metadata": {},
   "outputs": [],
   "source": [
    "# Complex processing example\n",
    "complex_data = (cd\n",
    "    .catalog(\"renewables\")\n",
    "    .installation(\"pv_utility\")\n",
    "    .experiment_id(\"ssp370\")          # Future scenario\n",
    "    .table_id(\"day\")                  # Monthly data\n",
    "    .grid_label(\"d03\")                # Higher resolution\n",
    "    .variable(\"cf\")\n",
    "    .processes({\n",
    "        # \"time_slice\": (\"2050-01-01\", \"2059-12-31\"),    # 2050s decade\n",
    "        # \"clip\": ((32.0, 42.0), (-125.0, -115.0)),     # California coast\n",
    "        # \"concat\": \"sim\"\n",
    "    })\n",
    "    .get()\n",
    ")\n",
    "\n",
    "print(complex_data)"
   ]
  },
  {
   "cell_type": "markdown",
   "id": "17d0d60e",
   "metadata": {},
   "source": [
    "<!-- \n",
    "### 4. Multiple Time Periods -->\n"
   ]
  },
  {
   "cell_type": "code",
   "execution_count": null,
   "id": "367bc6c0",
   "metadata": {},
   "outputs": [],
   "source": [
    "# Compare different time periods\n",
    "time_periods = [\n",
    "    (\"2000-01-01\", \"2009-12-31\", \"2000s\"),\n",
    "    (\"2010-01-01\", \"2019-12-31\", \"2010s\"),\n",
    "    (\"2090-01-01\", \"2099-12-31\", \"2090s\")\n",
    "]\n",
    "\n",
    "time_comparison = {}\n",
    "\n",
    "for start, end, label in time_periods:\n",
    "    print(f\"Retrieving data for {label}...\")\n",
    "    time_comparison[label] = (cd\n",
    "        .catalog(\"renewables\")\n",
    "        .installation(\"pv_utility\")\n",
    "        .experiment_id(\"ssp370\" if label == \"2090s\" else \"historical\")\n",
    "        .table_id(\"day\")\n",
    "        .grid_label(\"d03\")\n",
    "        .variable(\"cf\")\n",
    "        .processes({\n",
    "            \"time_slice\": (start, end),\n",
    "            \"clip\": pajaro_bounds,\n",
    "            \"concat\": \"sim\"\n",
    "        })\n",
    "        .get()\n",
    "    )\n",
    "\n",
    "# Compare the periods\n",
    "print(\"\\n=== TIME PERIOD COMPARISON ===\")\n",
    "for period, data in time_comparison.items():\n",
    "    if data is not None:\n",
    "        mean_cf = float(data['cf'].mean(dim=['x','y','time','sim']))\n",
    "        print(f\"{period}: Mean annual capacity factor = {mean_cf:.3f}\")"
   ]
  },
  {
   "cell_type": "markdown",
   "id": "61cf2489",
   "metadata": {},
   "source": [
    "### 4. A-Priori Bias-Corrected Models\n",
    "\n",
    "by default, a processor is added to the chain to remove unbiased models. This behavior can\n",
    "be modified as necessary:"
   ]
  },
  {
   "cell_type": "code",
   "execution_count": null,
   "id": "4dfa0bfc",
   "metadata": {},
   "outputs": [],
   "source": [
    "# default behavior:\n",
    "data = (cd\n",
    "    .catalog(\"data\")\n",
    "    .activity_id(\"WRF\")\n",
    "    .table_id(\"mon\")\n",
    "    .grid_label(\"d01\")\n",
    "    .variable(\"t2max\")\n",
    "    .get()\n",
    ")"
   ]
  },
  {
   "cell_type": "code",
   "execution_count": null,
   "id": "c398a60e",
   "metadata": {},
   "outputs": [],
   "source": [
    "# manually include unbiased models:\n",
    "data = (cd\n",
    "    .catalog(\"data\")\n",
    "    .activity_id(\"WRF\")\n",
    "    .table_id(\"mon\")\n",
    "    .grid_label(\"d01\")\n",
    "    .variable(\"t2max\")\n",
    "    .processes({\n",
    "        \"filter_unbiased_models\": \"no\"\n",
    "    })\n",
    "    .get()\n",
    ")"
   ]
  },
  {
   "cell_type": "markdown",
   "id": "b0fd82c4",
   "metadata": {},
   "source": [
    "\n",
    "---\n",
    "\n",
    "## Best Practices and Tips\n",
    "\n",
    "### 1. Query Building Strategy\n"
   ]
  },
  {
   "cell_type": "code",
   "execution_count": null,
   "id": "cf964edd",
   "metadata": {},
   "outputs": [],
   "source": [
    "# Good practice: Build queries incrementally\n",
    "def build_climate_query():\n",
    "    \"\"\"Example of systematic query building\"\"\"\n",
    "    \n",
    "    # Start with basic parameters\n",
    "    query = cd.catalog(\"renewables\")\n",
    "    \n",
    "    # Add installation based on your analysis needs\n",
    "    query = query.installation(\"pv_utility\")\n",
    "    \n",
    "    # Choose appropriate temporal resolution\n",
    "    # - \"1hr\" for detailed analysis, large datasets\n",
    "    # - \"day\" for daily patterns, medium datasets  \n",
    "    # - \"mon\" for seasonal patterns, smaller datasets\n",
    "    query = query.table_id(\"day\")\n",
    "    \n",
    "    # Choose spatial resolution based on computational resources\n",
    "    # - \"d01\": Highest resolution, largest datasets\n",
    "    # - \"d02\": Medium resolution, good compromise\n",
    "    # - \"d03\": Lower resolution, fastest processing\n",
    "    query = query.grid_label(\"d03\")\n",
    "    \n",
    "    return query\n",
    "\n",
    "# Use the builder\n",
    "base_query = build_climate_query()\n",
    "base_query.show_query()"
   ]
  },
  {
   "cell_type": "markdown",
   "id": "a2ff46b1",
   "metadata": {},
   "source": [
    "### 2. Error Handling and Debugging\n"
   ]
  },
  {
   "cell_type": "code",
   "execution_count": null,
   "id": "001b1e12",
   "metadata": {},
   "outputs": [],
   "source": [
    "def safe_data_retrieval(query_func, description=\"data\"):\n",
    "    \"\"\"Safely retrieve data with error handling\"\"\"\n",
    "    try:\n",
    "        print(f\"Attempting to retrieve {description}...\")\n",
    "        data = query_func()\n",
    "        \n",
    "        if data is not None:\n",
    "            print(f\"✓ Successfully retrieved {description}\")\n",
    "            print(f\"  Size: {data.nbytes / (1024**3):.1f} GB\")\n",
    "            print(f\"  Shape: {data.dims}\")\n",
    "            return data\n",
    "        else:\n",
    "            print(f\"✗ No data returned for {description}\")\n",
    "            return None\n",
    "            \n",
    "    except Exception as e:\n",
    "        print(f\"✗ Error retrieving {description}: {str(e)}\")\n",
    "        return None\n",
    "\n",
    "# Example usage\n",
    "def my_query():\n",
    "    return (cd\n",
    "        .catalog(\"renewables\")\n",
    "        .installation(\"pv_utility\")\n",
    "        .variable(\"cf\")\n",
    "        .table_id(\"day\")\n",
    "        .grid_label(\"d03\")\n",
    "        .get()\n",
    "    )\n",
    "\n",
    "data = safe_data_retrieval(my_query, \"PV capacity factor data\")"
   ]
  },
  {
   "cell_type": "markdown",
   "id": "39c573ab",
   "metadata": {},
   "source": [
    "### 3. Reusing Query Configurations\n"
   ]
  },
  {
   "cell_type": "code",
   "execution_count": null,
   "id": "cdef3879",
   "metadata": {},
   "outputs": [],
   "source": [
    "# Save and reuse query configurations\n",
    "base_config = {\n",
    "    \"catalog\": \"renewables\",\n",
    "    \"installation\": \"pv_utility\", \n",
    "    \"experiment_id\": \"historical\",\n",
    "    \"table_id\": \"day\",\n",
    "    \"grid_label\": \"d03\"\n",
    "}\n",
    "\n",
    "# Create a fresh instance and load the configuration\n",
    "query_instance = ClimateData()\n",
    "\n",
    "# Now add variable-specific parameters\n",
    "cf_data = query_instance.load_query(base_config).variable(\"cf\").get()\n",
    "temp_data = query_instance.load_query(base_config).variable(\"gen\").get()\n",
    "\n",
    "print(cf_data)\n",
    "print(temp_data)"
   ]
  },
  {
   "cell_type": "markdown",
   "id": "e5c0fdd8",
   "metadata": {},
   "source": [
    "\n",
    "---\n",
    "\n",
    "## Summary\n",
    "\n",
    "The ClimateData interface provides a powerful and flexible way to access climate data:\n",
    "\n",
    "### Key Features:\n",
    "- **Fluent Interface**: Chain methods for readable query building\n",
    "- **Progressive Exploration**: Discover available options as you build queries\n",
    "- **Server-side Processing**: Efficient clipping, time slicing, and aggregation\n",
    "- **Flexible Clipping**: Support for both lat/lon bounds and shapefiles\n",
    "- **Error Handling**: Clear feedback when queries fail\n",
    "\n",
    "### Best Practices:\n",
    "1. **Explore First**: Use `show_*_options()` methods before building queries\n",
    "2. **Process Server-side**: Use the `processes` parameter for efficiency\n",
    "3. **Build Incrementally**: Add parameters step-by-step and validate\n",
    "4. **Handle Errors**: Always check if data is None before processing\n",
    "5. **Start Small**: Test with small datasets before scaling up\n",
    "\n",
    "### Next Steps:\n",
    "- Explore different catalogs and installations\n",
    "- Experiment with various processing combinations\n",
    "- Integrate with your analysis workflows\n",
    "- Consider caching strategies for repeated queries\n",
    "\n",
    "The interface makes it easy to go from exploration to analysis while handling the complexity of climate data access behind the scenes.\n",
    "\n",
    "---\n",
    "\n",
    "## Additional Resources\n",
    "\n",
    "- **API Documentation**: Check the docstrings for detailed parameter information\n",
    "- **Processing Options**: Use `show_processors()` to see all available processing operations\n",
    "- **Validation**: Use `show_validators()` to understand data quality checks\n",
    "- **Examples**: The `show_all_options()` method provides comprehensive exploration\n",
    "\n",
    "Happy climate data analysis! 🌍📊"
   ]
  }
 ],
 "metadata": {
  "kernelspec": {
   "display_name": "climakitae",
   "language": "python",
   "name": "python3"
  },
  "language_info": {
   "codemirror_mode": {
    "name": "ipython",
    "version": 3
   },
   "file_extension": ".py",
   "mimetype": "text/x-python",
   "name": "python",
   "nbconvert_exporter": "python",
   "pygments_lexer": "ipython3",
   "version": "3.12.8"
  }
 },
 "nbformat": 4,
 "nbformat_minor": 5
}
