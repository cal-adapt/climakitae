{
 "cells": [
  {
   "cell_type": "code",
   "execution_count": null,
   "id": "f2b2abbb",
   "metadata": {},
   "outputs": [],
   "source": [
    "from climakitae.new_core.user_interface import ClimateData\n"
   ]
  },
  {
   "cell_type": "code",
   "execution_count": null,
   "id": "f47fa7de",
   "metadata": {},
   "outputs": [],
   "source": [
    "cd = ClimateData()"
   ]
  },
  {
   "cell_type": "code",
   "execution_count": null,
   "id": "71d06293",
   "metadata": {
    "vscode": {
     "languageId": "javascript"
    }
   },
   "outputs": [],
   "source": [
    "default_filtered = (cd\n",
    "    .catalog(\"data\")\n",
    "    .activity_id(\"WRF\")\n",
    "    .table_id(\"mon\")\n",
    "    .grid_label(\"d01\")\n",
    "    .variable(\"t2max\")\n",
    "    .processes({\n",
    "        \"warming_level\": {\n",
    "            \"warming_levels\": [2.0]\n",
    "        }\n",
    "    })\n",
    "    .get()\n",
    ")"
   ]
  }
 ],
 "metadata": {
  "kernelspec": {
   "display_name": "climakitae",
   "language": "python",
   "name": "python3"
  },
  "language_info": {
   "name": "python",
   "version": "3.12.7"
  }
 },
 "nbformat": 4,
 "nbformat_minor": 5
}
